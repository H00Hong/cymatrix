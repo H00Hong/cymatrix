{
 "cells": [
  {
   "cell_type": "code",
   "execution_count": 1,
   "metadata": {},
   "outputs": [],
   "source": [
    "import cymatrix as cm\n",
    "import numpy as np\n",
    "import scipy.interpolate\n"
   ]
  },
  {
   "cell_type": "code",
   "execution_count": 2,
   "metadata": {},
   "outputs": [],
   "source": [
    "a = [[30., -3., 90., -180.],\n",
    "     [0., 5., 60., -90.], \n",
    "     [180., 0.12, -60., 15.],\n",
    "     [270., -30., -9.9, 0.]]\n",
    "\n",
    "m1 = cm.Matrix(a)\n",
    "m2 = np.array(a)"
   ]
  },
  {
   "cell_type": "code",
   "execution_count": 3,
   "metadata": {},
   "outputs": [
    {
     "data": {
      "text/plain": [
       "Matrix([1.0, 2.0, 3.0])"
      ]
     },
     "execution_count": 3,
     "metadata": {},
     "output_type": "execute_result"
    }
   ],
   "source": [
    "cm.asarray([1,2,3])"
   ]
  },
  {
   "cell_type": "code",
   "execution_count": null,
   "metadata": {},
   "outputs": [],
   "source": []
  },
  {
   "cell_type": "code",
   "execution_count": null,
   "metadata": {},
   "outputs": [],
   "source": []
  },
  {
   "cell_type": "code",
   "execution_count": null,
   "metadata": {},
   "outputs": [],
   "source": []
  },
  {
   "cell_type": "code",
   "execution_count": null,
   "metadata": {},
   "outputs": [],
   "source": [
    "data = ((450, 455, 460, 465, 470, 475, 480, 485, 490, 495, 500, 505, 510, 515,\n",
    "         520, 525, 530, 535, 540, 545, 550, 555, 560, 565, 570, 575, 580, 585,\n",
    "         590, 595, 600, 605, 610, 615, 620, 625, 630, 635, 640, 645, 650),\n",
    "        (146.571474, 145.823075, 145.491652, 144.740026, 144.628817,\n",
    "         143.965309, 143.492719, 143.015041, 141.78422, 141.800691, 141.506711,\n",
    "         140.843265, 140.60691, 140.329312, 140.051493, 139.608754, 138.948754,\n",
    "         137.757343, 137.403268, 137.609801, 137.258783, 136.727531,\n",
    "         136.443899, 136.575577, 135.741262, 135.72312, 135.438998, 135.603508,\n",
    "         134.313808, 134.044323, 134.305536, 134.096924, 133.354517,\n",
    "         132.983888, 133.142939, 133.28946, 132.804627, 132.204945, 131.894646,\n",
    "         131.733284, 132.873662))\n",
    "res = {\n",
    "    'x': np.array([1.17479537e+02, 6.15118989, -4.72717596e-02]),\n",
    "    'se': np.array([\n",
    "        -0.13151581, -0.26581629, -0.00200823, -0.17651866, 0.27198804,\n",
    "        0.15147718, 0.2058147, 0.2396129, -0.49459384, 0.00419153, 0.17876214,\n",
    "        -0.02938534, 0.17679457, 0.32943438, 0.4700018, 0.43422381, 0.17016671,\n",
    "        -0.63592997, -0.61494652, -0.04325421, -0.03867052, -0.22355132,\n",
    "        -0.16972921, 0.29078619, -0.22302016, 0.07129393, 0.0918404,\n",
    "        0.55348549, -0.44636871, -0.43306284, 0.10411119, 0.16484669,\n",
    "        -0.31461846, -0.42851143, -0.01873802, 0.37267663, 0.1270864,\n",
    "        -0.2388325, -0.32068326, -0.25875314, 1.09991373\n",
    "    ]),\n",
    "    'sse': 2.394890682886707 * 2,\n",
    "    'nfev': 3,\n",
    "    'grad': np.array([2.45430354e-08, 9.92523326e-08, -2.19310754e-06]),\n",
    "    'optimality': 2.193107544457007e-06\n",
    "}\n",
    "ndata = np.array(data)\n",
    "mdata = cm.Matrix(data)\n",
    "\n",
    "def cauchy(p, x):\n",
    "    return p[0]+p[1]/x**2+p[2]/x**4"
   ]
  },
  {
   "cell_type": "code",
   "execution_count": 5,
   "metadata": {},
   "outputs": [],
   "source": [
    "inte = cm.sci.interp1d(mdata[0], mdata[1])\n",
    "xa = list(range(400, 600))\n",
    "ym = inte(xa)\n",
    "\n",
    "inte_ = scipy.interpolate.interp1d(ndata[0], ndata[1], 3, fill_value='extrapolate')\n",
    "yn = inte_(xa)\n"
   ]
  },
  {
   "cell_type": "code",
   "execution_count": 6,
   "metadata": {},
   "outputs": [
    {
     "data": {
      "text/plain": [
       "np.float64(1.0541739925429283e-10)"
      ]
     },
     "execution_count": 6,
     "metadata": {},
     "output_type": "execute_result"
    }
   ],
   "source": [
    "err = yn - np.asarray(ym.value)\n",
    "np.abs(err).mean()"
   ]
  },
  {
   "cell_type": "code",
   "execution_count": 7,
   "metadata": {},
   "outputs": [
    {
     "data": {
      "text/plain": [
       "Matrix([[ 454.23664860041754    , 454.23664860041754    ],\n",
       "        [ -1.9386119739546075   , -1.9386119739546075   ],\n",
       "        [ 0.004868585958357707  , 0.004868585958357707  ],\n",
       "        [ -5.853715874829142e-06, -5.853715874829142e-06],\n",
       "        [ 2.7369422908935155e-09, 2.7369422908935155e-09]])"
      ]
     },
     "execution_count": 7,
     "metadata": {},
     "output_type": "execute_result"
    }
   ],
   "source": [
    "lsq = cm.sci.polyfit(mdata[0], cm.asarray((mdata[1], mdata[1])), 4)\n",
    "lsq"
   ]
  },
  {
   "cell_type": "code",
   "execution_count": null,
   "metadata": {},
   "outputs": [],
   "source": [
    "%load_ext viztracer"
   ]
  },
  {
   "cell_type": "code",
   "execution_count": null,
   "metadata": {},
   "outputs": [],
   "source": [
    "%%viztracer --p 8001\n",
    "lesq = cm.sci.levenberg_marquardt(cauchy, [150.,0.,0.], data[1], args=[cm.Matrix(data[0])/1000])"
   ]
  },
  {
   "cell_type": "code",
   "execution_count": null,
   "metadata": {},
   "outputs": [],
   "source": [
    "lesq"
   ]
  },
  {
   "cell_type": "code",
   "execution_count": null,
   "metadata": {},
   "outputs": [],
   "source": []
  },
  {
   "cell_type": "code",
   "execution_count": null,
   "metadata": {},
   "outputs": [],
   "source": []
  },
  {
   "cell_type": "code",
   "execution_count": null,
   "metadata": {},
   "outputs": [],
   "source": []
  },
  {
   "cell_type": "code",
   "execution_count": null,
   "metadata": {},
   "outputs": [],
   "source": []
  }
 ],
 "metadata": {
  "kernelspec": {
   "display_name": "base",
   "language": "python",
   "name": "python3"
  },
  "language_info": {
   "codemirror_mode": {
    "name": "ipython",
    "version": 3
   },
   "file_extension": ".py",
   "mimetype": "text/x-python",
   "name": "python",
   "nbconvert_exporter": "python",
   "pygments_lexer": "ipython3",
   "version": "3.12.7"
  }
 },
 "nbformat": 4,
 "nbformat_minor": 2
}
